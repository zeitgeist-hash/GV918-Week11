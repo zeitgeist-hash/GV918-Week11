{
  "nbformat": 4,
  "nbformat_minor": 0,
  "metadata": {
    "colab": {
      "name": "Copy of Classification-demo.ipynb",
      "provenance": [],
      "collapsed_sections": []
    },
    "kernelspec": {
      "name": "python3",
      "display_name": "Python 3"
    }
  },
  "cells": [
    {
      "cell_type": "markdown",
      "metadata": {
        "id": "ceu_Pefk2aob"
      },
      "source": [
        "# Instruction\r\n",
        "\r\n",
        "The dataset we will use here is a simulated dataset of online purchase behavior.\r\n",
        " The data comes from kaggle:\r\n",
        "\r\n",
        "https://www.kaggle.com/rakeshrau/social-network-ads\r\n",
        "\r\n",
        "There are three predictors:\r\n",
        "- `Gender`\r\n",
        "- `Age`\r\n",
        "- `EstimatedSalary`\r\n",
        "\r\n",
        "The output is `Purchased`\r\n",
        "\r\n",
        "\r\n",
        "\r\n"
      ]
    },
    {
      "cell_type": "code",
      "metadata": {
        "id": "qnPPhqup9ds-",
        "colab": {
          "base_uri": "https://localhost:8080/"
        },
        "outputId": "14cb6057-bb0f-46c8-b904-263d39227144"
      },
      "source": [
        "!wget https://www.dropbox.com/s/p1fep0smi4k19ry/Social_Network_Ads.csv"
      ],
      "execution_count": 1,
      "outputs": [
        {
          "output_type": "stream",
          "text": [
            "--2020-12-15 15:11:51--  https://www.dropbox.com/s/p1fep0smi4k19ry/Social_Network_Ads.csv\n",
            "Resolving www.dropbox.com (www.dropbox.com)... 162.125.3.18, 2620:100:601b:18::a27d:812\n",
            "Connecting to www.dropbox.com (www.dropbox.com)|162.125.3.18|:443... connected.\n",
            "HTTP request sent, awaiting response... 301 Moved Permanently\n",
            "Location: /s/raw/p1fep0smi4k19ry/Social_Network_Ads.csv [following]\n",
            "--2020-12-15 15:11:51--  https://www.dropbox.com/s/raw/p1fep0smi4k19ry/Social_Network_Ads.csv\n",
            "Reusing existing connection to www.dropbox.com:443.\n",
            "HTTP request sent, awaiting response... 302 Found\n",
            "Location: https://ucfd3fa9f3b7fffbe83cc344ac83.dl.dropboxusercontent.com/cd/0/inline/BFEZSmUufPtAK0t0cz9wrjPOKoD4UWHHxsAJyek6-FGcobFgATuxFjRwqBS1s-iz3ckES4A5aXYPAsFTAxSCSa-XabBWCWaPWKBA4LevBnJI8XGsMcw-saWB2dADW1k7OjM/file# [following]\n",
            "--2020-12-15 15:11:51--  https://ucfd3fa9f3b7fffbe83cc344ac83.dl.dropboxusercontent.com/cd/0/inline/BFEZSmUufPtAK0t0cz9wrjPOKoD4UWHHxsAJyek6-FGcobFgATuxFjRwqBS1s-iz3ckES4A5aXYPAsFTAxSCSa-XabBWCWaPWKBA4LevBnJI8XGsMcw-saWB2dADW1k7OjM/file\n",
            "Resolving ucfd3fa9f3b7fffbe83cc344ac83.dl.dropboxusercontent.com (ucfd3fa9f3b7fffbe83cc344ac83.dl.dropboxusercontent.com)... 162.125.3.15, 2620:100:601b:15::a27d:80f\n",
            "Connecting to ucfd3fa9f3b7fffbe83cc344ac83.dl.dropboxusercontent.com (ucfd3fa9f3b7fffbe83cc344ac83.dl.dropboxusercontent.com)|162.125.3.15|:443... connected.\n",
            "HTTP request sent, awaiting response... 200 OK\n",
            "Length: 10926 (11K) [text/plain]\n",
            "Saving to: ‘Social_Network_Ads.csv’\n",
            "\n",
            "Social_Network_Ads. 100%[===================>]  10.67K  --.-KB/s    in 0s      \n",
            "\n",
            "2020-12-15 15:11:52 (224 MB/s) - ‘Social_Network_Ads.csv’ saved [10926/10926]\n",
            "\n"
          ],
          "name": "stdout"
        }
      ]
    },
    {
      "cell_type": "markdown",
      "metadata": {
        "id": "8qex4xEm2Vsc"
      },
      "source": [
        "## Import basic packages"
      ]
    },
    {
      "cell_type": "code",
      "metadata": {
        "id": "_9nL2VthnurG"
      },
      "source": [
        "import pandas as pd\r\n",
        "import seaborn as sns\r\n",
        "import matplotlib.pyplot as plt\r\n",
        "import numpy as np"
      ],
      "execution_count": 2,
      "outputs": []
    },
    {
      "cell_type": "markdown",
      "metadata": {
        "id": "380CNizyoC9O"
      },
      "source": [
        "## Load the data"
      ]
    },
    {
      "cell_type": "code",
      "metadata": {
        "id": "n-il2it1TENW"
      },
      "source": [
        "df_sn = pd.read_csv('Social_Network_Ads.csv')"
      ],
      "execution_count": 3,
      "outputs": []
    },
    {
      "cell_type": "code",
      "metadata": {
        "colab": {
          "base_uri": "https://localhost:8080/"
        },
        "id": "21aVXeOzXeQT",
        "outputId": "cb74d02b-c176-4a50-b9b4-f1efa5d48182"
      },
      "source": [
        "df_sn.info()"
      ],
      "execution_count": 4,
      "outputs": [
        {
          "output_type": "stream",
          "text": [
            "<class 'pandas.core.frame.DataFrame'>\n",
            "RangeIndex: 400 entries, 0 to 399\n",
            "Data columns (total 5 columns):\n",
            " #   Column           Non-Null Count  Dtype \n",
            "---  ------           --------------  ----- \n",
            " 0   User ID          400 non-null    int64 \n",
            " 1   Gender           400 non-null    object\n",
            " 2   Age              400 non-null    int64 \n",
            " 3   EstimatedSalary  400 non-null    int64 \n",
            " 4   Purchased        400 non-null    int64 \n",
            "dtypes: int64(4), object(1)\n",
            "memory usage: 15.8+ KB\n"
          ],
          "name": "stdout"
        }
      ]
    },
    {
      "cell_type": "code",
      "metadata": {
        "colab": {
          "base_uri": "https://localhost:8080/",
          "height": 360
        },
        "id": "9pD5ls5sXky4",
        "outputId": "7ac8742d-a5f2-443b-a64a-b4cc7348e98d"
      },
      "source": [
        "df_sn.head(10)"
      ],
      "execution_count": 5,
      "outputs": [
        {
          "output_type": "execute_result",
          "data": {
            "text/html": [
              "<div>\n",
              "<style scoped>\n",
              "    .dataframe tbody tr th:only-of-type {\n",
              "        vertical-align: middle;\n",
              "    }\n",
              "\n",
              "    .dataframe tbody tr th {\n",
              "        vertical-align: top;\n",
              "    }\n",
              "\n",
              "    .dataframe thead th {\n",
              "        text-align: right;\n",
              "    }\n",
              "</style>\n",
              "<table border=\"1\" class=\"dataframe\">\n",
              "  <thead>\n",
              "    <tr style=\"text-align: right;\">\n",
              "      <th></th>\n",
              "      <th>User ID</th>\n",
              "      <th>Gender</th>\n",
              "      <th>Age</th>\n",
              "      <th>EstimatedSalary</th>\n",
              "      <th>Purchased</th>\n",
              "    </tr>\n",
              "  </thead>\n",
              "  <tbody>\n",
              "    <tr>\n",
              "      <th>0</th>\n",
              "      <td>15624510</td>\n",
              "      <td>Male</td>\n",
              "      <td>19</td>\n",
              "      <td>19000</td>\n",
              "      <td>0</td>\n",
              "    </tr>\n",
              "    <tr>\n",
              "      <th>1</th>\n",
              "      <td>15810944</td>\n",
              "      <td>Male</td>\n",
              "      <td>35</td>\n",
              "      <td>20000</td>\n",
              "      <td>0</td>\n",
              "    </tr>\n",
              "    <tr>\n",
              "      <th>2</th>\n",
              "      <td>15668575</td>\n",
              "      <td>Female</td>\n",
              "      <td>26</td>\n",
              "      <td>43000</td>\n",
              "      <td>0</td>\n",
              "    </tr>\n",
              "    <tr>\n",
              "      <th>3</th>\n",
              "      <td>15603246</td>\n",
              "      <td>Female</td>\n",
              "      <td>27</td>\n",
              "      <td>57000</td>\n",
              "      <td>0</td>\n",
              "    </tr>\n",
              "    <tr>\n",
              "      <th>4</th>\n",
              "      <td>15804002</td>\n",
              "      <td>Male</td>\n",
              "      <td>19</td>\n",
              "      <td>76000</td>\n",
              "      <td>0</td>\n",
              "    </tr>\n",
              "    <tr>\n",
              "      <th>5</th>\n",
              "      <td>15728773</td>\n",
              "      <td>Male</td>\n",
              "      <td>27</td>\n",
              "      <td>58000</td>\n",
              "      <td>0</td>\n",
              "    </tr>\n",
              "    <tr>\n",
              "      <th>6</th>\n",
              "      <td>15598044</td>\n",
              "      <td>Female</td>\n",
              "      <td>27</td>\n",
              "      <td>84000</td>\n",
              "      <td>0</td>\n",
              "    </tr>\n",
              "    <tr>\n",
              "      <th>7</th>\n",
              "      <td>15694829</td>\n",
              "      <td>Female</td>\n",
              "      <td>32</td>\n",
              "      <td>150000</td>\n",
              "      <td>1</td>\n",
              "    </tr>\n",
              "    <tr>\n",
              "      <th>8</th>\n",
              "      <td>15600575</td>\n",
              "      <td>Male</td>\n",
              "      <td>25</td>\n",
              "      <td>33000</td>\n",
              "      <td>0</td>\n",
              "    </tr>\n",
              "    <tr>\n",
              "      <th>9</th>\n",
              "      <td>15727311</td>\n",
              "      <td>Female</td>\n",
              "      <td>35</td>\n",
              "      <td>65000</td>\n",
              "      <td>0</td>\n",
              "    </tr>\n",
              "  </tbody>\n",
              "</table>\n",
              "</div>"
            ],
            "text/plain": [
              "    User ID  Gender  Age  EstimatedSalary  Purchased\n",
              "0  15624510    Male   19            19000          0\n",
              "1  15810944    Male   35            20000          0\n",
              "2  15668575  Female   26            43000          0\n",
              "3  15603246  Female   27            57000          0\n",
              "4  15804002    Male   19            76000          0\n",
              "5  15728773    Male   27            58000          0\n",
              "6  15598044  Female   27            84000          0\n",
              "7  15694829  Female   32           150000          1\n",
              "8  15600575    Male   25            33000          0\n",
              "9  15727311  Female   35            65000          0"
            ]
          },
          "metadata": {
            "tags": []
          },
          "execution_count": 5
        }
      ]
    },
    {
      "cell_type": "code",
      "metadata": {
        "colab": {
          "base_uri": "https://localhost:8080/",
          "height": 298
        },
        "id": "D1tidr4wXr7K",
        "outputId": "dfe5f395-0a47-49e7-fa74-bd6aa7722421"
      },
      "source": [
        "df_sn.describe()"
      ],
      "execution_count": 6,
      "outputs": [
        {
          "output_type": "execute_result",
          "data": {
            "text/html": [
              "<div>\n",
              "<style scoped>\n",
              "    .dataframe tbody tr th:only-of-type {\n",
              "        vertical-align: middle;\n",
              "    }\n",
              "\n",
              "    .dataframe tbody tr th {\n",
              "        vertical-align: top;\n",
              "    }\n",
              "\n",
              "    .dataframe thead th {\n",
              "        text-align: right;\n",
              "    }\n",
              "</style>\n",
              "<table border=\"1\" class=\"dataframe\">\n",
              "  <thead>\n",
              "    <tr style=\"text-align: right;\">\n",
              "      <th></th>\n",
              "      <th>User ID</th>\n",
              "      <th>Age</th>\n",
              "      <th>EstimatedSalary</th>\n",
              "      <th>Purchased</th>\n",
              "    </tr>\n",
              "  </thead>\n",
              "  <tbody>\n",
              "    <tr>\n",
              "      <th>count</th>\n",
              "      <td>4.000000e+02</td>\n",
              "      <td>400.000000</td>\n",
              "      <td>400.000000</td>\n",
              "      <td>400.000000</td>\n",
              "    </tr>\n",
              "    <tr>\n",
              "      <th>mean</th>\n",
              "      <td>1.569154e+07</td>\n",
              "      <td>37.655000</td>\n",
              "      <td>69742.500000</td>\n",
              "      <td>0.357500</td>\n",
              "    </tr>\n",
              "    <tr>\n",
              "      <th>std</th>\n",
              "      <td>7.165832e+04</td>\n",
              "      <td>10.482877</td>\n",
              "      <td>34096.960282</td>\n",
              "      <td>0.479864</td>\n",
              "    </tr>\n",
              "    <tr>\n",
              "      <th>min</th>\n",
              "      <td>1.556669e+07</td>\n",
              "      <td>18.000000</td>\n",
              "      <td>15000.000000</td>\n",
              "      <td>0.000000</td>\n",
              "    </tr>\n",
              "    <tr>\n",
              "      <th>25%</th>\n",
              "      <td>1.562676e+07</td>\n",
              "      <td>29.750000</td>\n",
              "      <td>43000.000000</td>\n",
              "      <td>0.000000</td>\n",
              "    </tr>\n",
              "    <tr>\n",
              "      <th>50%</th>\n",
              "      <td>1.569434e+07</td>\n",
              "      <td>37.000000</td>\n",
              "      <td>70000.000000</td>\n",
              "      <td>0.000000</td>\n",
              "    </tr>\n",
              "    <tr>\n",
              "      <th>75%</th>\n",
              "      <td>1.575036e+07</td>\n",
              "      <td>46.000000</td>\n",
              "      <td>88000.000000</td>\n",
              "      <td>1.000000</td>\n",
              "    </tr>\n",
              "    <tr>\n",
              "      <th>max</th>\n",
              "      <td>1.581524e+07</td>\n",
              "      <td>60.000000</td>\n",
              "      <td>150000.000000</td>\n",
              "      <td>1.000000</td>\n",
              "    </tr>\n",
              "  </tbody>\n",
              "</table>\n",
              "</div>"
            ],
            "text/plain": [
              "            User ID         Age  EstimatedSalary   Purchased\n",
              "count  4.000000e+02  400.000000       400.000000  400.000000\n",
              "mean   1.569154e+07   37.655000     69742.500000    0.357500\n",
              "std    7.165832e+04   10.482877     34096.960282    0.479864\n",
              "min    1.556669e+07   18.000000     15000.000000    0.000000\n",
              "25%    1.562676e+07   29.750000     43000.000000    0.000000\n",
              "50%    1.569434e+07   37.000000     70000.000000    0.000000\n",
              "75%    1.575036e+07   46.000000     88000.000000    1.000000\n",
              "max    1.581524e+07   60.000000    150000.000000    1.000000"
            ]
          },
          "metadata": {
            "tags": []
          },
          "execution_count": 6
        }
      ]
    },
    {
      "cell_type": "markdown",
      "metadata": {
        "id": "Nmqn-VRmo2eI"
      },
      "source": [
        "## Visualise the data"
      ]
    },
    {
      "cell_type": "code",
      "metadata": {
        "colab": {
          "base_uri": "https://localhost:8080/",
          "height": 567
        },
        "id": "aSEJg-tKTFzJ",
        "outputId": "c8727523-42cf-45a5-a831-be7d90da05b7"
      },
      "source": [
        "sns.set_style(\"whitegrid\")\r\n",
        "sns.pairplot(df_sn.drop(\"User ID\", axis = 1), hue = \"Gender\")"
      ],
      "execution_count": 7,
      "outputs": [
        {
          "output_type": "execute_result",
          "data": {
            "text/plain": [
              "<seaborn.axisgrid.PairGrid at 0x7fea1733f278>"
            ]
          },
          "metadata": {
            "tags": []
          },
          "execution_count": 7
        },
        {
          "output_type": "display_data",
          "data": {
            "image/png": "[encoded data removed]",
            "text/plain": [
              "<Figure size 612.125x540 with 12 Axes>"
            ]
          },
          "metadata": {
            "tags": []
          }
        }
      ]
    },
    {
      "cell_type": "code",
      "metadata": {
        "colab": {
          "base_uri": "https://localhost:8080/",
          "height": 459
        },
        "id": "Q1CRIfgpYhCt",
        "outputId": "3d88fdae-b25f-4fe0-8236-d8f4ef674fdf"
      },
      "source": [
        "sns.jointplot(x = \"Age\", y = \"EstimatedSalary\", hue = 'Purchased', \r\n",
        "              data = df_sn)"
      ],
      "execution_count": 8,
      "outputs": [
        {
          "output_type": "execute_result",
          "data": {
            "text/plain": [
              "<seaborn.axisgrid.JointGrid at 0x7fea13d14e80>"
            ]
          },
          "metadata": {
            "tags": []
          },
          "execution_count": 8
        },
        {
          "output_type": "display_data",
          "data": {
            "image/png": "[encoded data removed]",
            "text/plain": [
              "<Figure size 432x432 with 3 Axes>"
            ]
          },
          "metadata": {
            "tags": []
          }
        }
      ]
    },
    {
      "cell_type": "code",
      "metadata": {
        "id": "-xXfTrotzkDM",
        "colab": {
          "base_uri": "https://localhost:8080/",
          "height": 420
        },
        "outputId": "5fc85789-a9a8-4272-e5e7-9f3dfc62533e"
      },
      "source": [
        "pd.get_dummies(df_sn['Gender'])"
      ],
      "execution_count": 9,
      "outputs": [
        {
          "output_type": "execute_result",
          "data": {
            "text/html": [
              "<div>\n",
              "<style scoped>\n",
              "    .dataframe tbody tr th:only-of-type {\n",
              "        vertical-align: middle;\n",
              "    }\n",
              "\n",
              "    .dataframe tbody tr th {\n",
              "        vertical-align: top;\n",
              "    }\n",
              "\n",
              "    .dataframe thead th {\n",
              "        text-align: right;\n",
              "    }\n",
              "</style>\n",
              "<table border=\"1\" class=\"dataframe\">\n",
              "  <thead>\n",
              "    <tr style=\"text-align: right;\">\n",
              "      <th></th>\n",
              "      <th>Female</th>\n",
              "      <th>Male</th>\n",
              "    </tr>\n",
              "  </thead>\n",
              "  <tbody>\n",
              "    <tr>\n",
              "      <th>0</th>\n",
              "      <td>0</td>\n",
              "      <td>1</td>\n",
              "    </tr>\n",
              "    <tr>\n",
              "      <th>1</th>\n",
              "      <td>0</td>\n",
              "      <td>1</td>\n",
              "    </tr>\n",
              "    <tr>\n",
              "      <th>2</th>\n",
              "      <td>1</td>\n",
              "      <td>0</td>\n",
              "    </tr>\n",
              "    <tr>\n",
              "      <th>3</th>\n",
              "      <td>1</td>\n",
              "      <td>0</td>\n",
              "    </tr>\n",
              "    <tr>\n",
              "      <th>4</th>\n",
              "      <td>0</td>\n",
              "      <td>1</td>\n",
              "    </tr>\n",
              "    <tr>\n",
              "      <th>...</th>\n",
              "      <td>...</td>\n",
              "      <td>...</td>\n",
              "    </tr>\n",
              "    <tr>\n",
              "      <th>395</th>\n",
              "      <td>1</td>\n",
              "      <td>0</td>\n",
              "    </tr>\n",
              "    <tr>\n",
              "      <th>396</th>\n",
              "      <td>0</td>\n",
              "      <td>1</td>\n",
              "    </tr>\n",
              "    <tr>\n",
              "      <th>397</th>\n",
              "      <td>1</td>\n",
              "      <td>0</td>\n",
              "    </tr>\n",
              "    <tr>\n",
              "      <th>398</th>\n",
              "      <td>0</td>\n",
              "      <td>1</td>\n",
              "    </tr>\n",
              "    <tr>\n",
              "      <th>399</th>\n",
              "      <td>1</td>\n",
              "      <td>0</td>\n",
              "    </tr>\n",
              "  </tbody>\n",
              "</table>\n",
              "<p>400 rows × 2 columns</p>\n",
              "</div>"
            ],
            "text/plain": [
              "     Female  Male\n",
              "0         0     1\n",
              "1         0     1\n",
              "2         1     0\n",
              "3         1     0\n",
              "4         0     1\n",
              "..      ...   ...\n",
              "395       1     0\n",
              "396       0     1\n",
              "397       1     0\n",
              "398       0     1\n",
              "399       1     0\n",
              "\n",
              "[400 rows x 2 columns]"
            ]
          },
          "metadata": {
            "tags": []
          },
          "execution_count": 9
        }
      ]
    },
    {
      "cell_type": "code",
      "metadata": {
        "id": "3VW0CoNYY2Hb"
      },
      "source": [
        "df_sn['Gender'] = pd.get_dummies(df_sn['Gender'])[['Female']]"
      ],
      "execution_count": 10,
      "outputs": []
    },
    {
      "cell_type": "markdown",
      "metadata": {
        "id": "i_48uOY2pntq"
      },
      "source": [
        "## Train-Test split"
      ]
    },
    {
      "cell_type": "code",
      "metadata": {
        "id": "t1KcwAskTInf"
      },
      "source": [
        "from sklearn.model_selection import train_test_split"
      ],
      "execution_count": 11,
      "outputs": []
    },
    {
      "cell_type": "code",
      "metadata": {
        "id": "spL28RriZThv",
        "colab": {
          "base_uri": "https://localhost:8080/"
        },
        "outputId": "a81a09bf-39fe-48e7-fa5a-b25b4cfabb54"
      },
      "source": [
        "X = df_sn.iloc[:, 1:4]\r\n",
        "print(X)\r\n",
        "y = df_sn['Purchased']\r\n",
        "print(y)\r\n"
      ],
      "execution_count": 12,
      "outputs": [
        {
          "output_type": "stream",
          "text": [
            "     Gender  Age  EstimatedSalary\n",
            "0         0   19            19000\n",
            "1         0   35            20000\n",
            "2         1   26            43000\n",
            "3         1   27            57000\n",
            "4         0   19            76000\n",
            "..      ...  ...              ...\n",
            "395       1   46            41000\n",
            "396       0   51            23000\n",
            "397       1   50            20000\n",
            "398       0   36            33000\n",
            "399       1   49            36000\n",
            "\n",
            "[400 rows x 3 columns]\n",
            "0      0\n",
            "1      0\n",
            "2      0\n",
            "3      0\n",
            "4      0\n",
            "      ..\n",
            "395    1\n",
            "396    1\n",
            "397    1\n",
            "398    0\n",
            "399    1\n",
            "Name: Purchased, Length: 400, dtype: int64\n"
          ],
          "name": "stdout"
        }
      ]
    },
    {
      "cell_type": "code",
      "metadata": {
        "id": "1Cu00rGyZlvt"
      },
      "source": [
        "X_train, X_test, y_train, y_test = train_test_split(X, y, test_size = .3, random_state = 42)"
      ],
      "execution_count": 13,
      "outputs": []
    },
    {
      "cell_type": "code",
      "metadata": {
        "colab": {
          "base_uri": "https://localhost:8080/"
        },
        "id": "1ocSxZTzaFQU",
        "outputId": "e30f4b68-0834-4a49-b6e5-5b4887262ba2"
      },
      "source": [
        "print(X_train.shape)\r\n",
        "print(X_test.shape)"
      ],
      "execution_count": 14,
      "outputs": [
        {
          "output_type": "stream",
          "text": [
            "(280, 3)\n",
            "(120, 3)\n"
          ],
          "name": "stdout"
        }
      ]
    },
    {
      "cell_type": "code",
      "metadata": {
        "colab": {
          "base_uri": "https://localhost:8080/",
          "height": 420
        },
        "id": "9Kbq_eqRaoZL",
        "outputId": "4e0ad68b-5985-4efc-f6ea-a6c3d11f19ad"
      },
      "source": [
        "X_train"
      ],
      "execution_count": 15,
      "outputs": [
        {
          "output_type": "execute_result",
          "data": {
            "text/html": [
              "<div>\n",
              "<style scoped>\n",
              "    .dataframe tbody tr th:only-of-type {\n",
              "        vertical-align: middle;\n",
              "    }\n",
              "\n",
              "    .dataframe tbody tr th {\n",
              "        vertical-align: top;\n",
              "    }\n",
              "\n",
              "    .dataframe thead th {\n",
              "        text-align: right;\n",
              "    }\n",
              "</style>\n",
              "<table border=\"1\" class=\"dataframe\">\n",
              "  <thead>\n",
              "    <tr style=\"text-align: right;\">\n",
              "      <th></th>\n",
              "      <th>Gender</th>\n",
              "      <th>Age</th>\n",
              "      <th>EstimatedSalary</th>\n",
              "    </tr>\n",
              "  </thead>\n",
              "  <tbody>\n",
              "    <tr>\n",
              "      <th>157</th>\n",
              "      <td>0</td>\n",
              "      <td>29</td>\n",
              "      <td>75000</td>\n",
              "    </tr>\n",
              "    <tr>\n",
              "      <th>109</th>\n",
              "      <td>1</td>\n",
              "      <td>38</td>\n",
              "      <td>80000</td>\n",
              "    </tr>\n",
              "    <tr>\n",
              "      <th>17</th>\n",
              "      <td>0</td>\n",
              "      <td>45</td>\n",
              "      <td>26000</td>\n",
              "    </tr>\n",
              "    <tr>\n",
              "      <th>347</th>\n",
              "      <td>1</td>\n",
              "      <td>54</td>\n",
              "      <td>108000</td>\n",
              "    </tr>\n",
              "    <tr>\n",
              "      <th>24</th>\n",
              "      <td>0</td>\n",
              "      <td>46</td>\n",
              "      <td>23000</td>\n",
              "    </tr>\n",
              "    <tr>\n",
              "      <th>...</th>\n",
              "      <td>...</td>\n",
              "      <td>...</td>\n",
              "      <td>...</td>\n",
              "    </tr>\n",
              "    <tr>\n",
              "      <th>71</th>\n",
              "      <td>1</td>\n",
              "      <td>24</td>\n",
              "      <td>27000</td>\n",
              "    </tr>\n",
              "    <tr>\n",
              "      <th>106</th>\n",
              "      <td>1</td>\n",
              "      <td>26</td>\n",
              "      <td>35000</td>\n",
              "    </tr>\n",
              "    <tr>\n",
              "      <th>270</th>\n",
              "      <td>1</td>\n",
              "      <td>43</td>\n",
              "      <td>133000</td>\n",
              "    </tr>\n",
              "    <tr>\n",
              "      <th>348</th>\n",
              "      <td>0</td>\n",
              "      <td>39</td>\n",
              "      <td>77000</td>\n",
              "    </tr>\n",
              "    <tr>\n",
              "      <th>102</th>\n",
              "      <td>1</td>\n",
              "      <td>32</td>\n",
              "      <td>86000</td>\n",
              "    </tr>\n",
              "  </tbody>\n",
              "</table>\n",
              "<p>280 rows × 3 columns</p>\n",
              "</div>"
            ],
            "text/plain": [
              "     Gender  Age  EstimatedSalary\n",
              "157       0   29            75000\n",
              "109       1   38            80000\n",
              "17        0   45            26000\n",
              "347       1   54           108000\n",
              "24        0   46            23000\n",
              "..      ...  ...              ...\n",
              "71        1   24            27000\n",
              "106       1   26            35000\n",
              "270       1   43           133000\n",
              "348       0   39            77000\n",
              "102       1   32            86000\n",
              "\n",
              "[280 rows x 3 columns]"
            ]
          },
          "metadata": {
            "tags": []
          },
          "execution_count": 15
        }
      ]
    },
    {
      "cell_type": "markdown",
      "metadata": {
        "id": "TvBSikT-t5uY"
      },
      "source": [
        "## Data Wrangling\r\n",
        "\r\n",
        "- Here we scale the variables using StandardScaler, which normalizes variables"
      ]
    },
    {
      "cell_type": "code",
      "metadata": {
        "id": "L9WStQLiTKMN"
      },
      "source": [
        "from sklearn.preprocessing import StandardScaler\r\n",
        "st_scaler = StandardScaler()"
      ],
      "execution_count": 16,
      "outputs": []
    },
    {
      "cell_type": "code",
      "metadata": {
        "id": "x60uumWdamun"
      },
      "source": [
        "X_train = st_scaler.fit_transform(X_train)\r\n",
        "X_test = st_scaler.transform(X_test)"
      ],
      "execution_count": 17,
      "outputs": []
    },
    {
      "cell_type": "code",
      "metadata": {
        "colab": {
          "base_uri": "https://localhost:8080/"
        },
        "id": "Uvqr5QfUbPOV",
        "outputId": "83cb86c1-cb17-41b4-d022-868f09ca1640"
      },
      "source": [
        "X_train"
      ],
      "execution_count": 18,
      "outputs": [
        {
          "output_type": "execute_result",
          "data": {
            "text/plain": [
              "array([[-1.02166316, -0.84252154,  0.1301563 ],\n",
              "       [ 0.97879618,  0.04175763,  0.2777019 ],\n",
              "       [-1.02166316,  0.72953032, -1.31579061],\n",
              "       [ 0.97879618,  1.61380949,  1.10395728],\n",
              "       [-1.02166316,  0.82778356, -1.40431797],\n",
              "       [ 0.97879618, -1.43204099, -1.25677236],\n",
              "       [-1.02166316, -0.05649561,  0.1301563 ],\n",
              "       [-1.02166316,  0.43477059, -0.16493491],\n",
              "       [ 0.97879618, -0.2530021 ,  0.01211982],\n",
              "       [ 0.97879618,  1.31904976,  2.22530386],\n",
              "       [-1.02166316,  0.14001087,  0.74984783],\n",
              "       [ 0.97879618, -1.33378775,  0.54328399],\n",
              "       [ 0.97879618,  2.00682245,  0.72033871],\n",
              "       [-1.02166316, -1.23553451, -1.43382709],\n",
              "       [-1.02166316,  0.33651735, -0.34198963],\n",
              "       [-1.02166316, -0.94077478,  0.54328399],\n",
              "       [ 0.97879618,  0.43477059,  0.2777019 ],\n",
              "       [ 0.97879618,  0.43477059,  1.10395728],\n",
              "       [ 0.97879618,  0.82778356,  0.74984783],\n",
              "       [ 0.97879618,  0.9260368 ,  1.25150288],\n",
              "       [ 0.97879618, -0.44950858, -1.25677236],\n",
              "       [-1.02166316, -1.82505395, -1.34529973],\n",
              "       [-1.02166316,  1.12254328,  0.54328399],\n",
              "       [ 0.97879618, -0.64601506, -1.64039093],\n",
              "       [ 0.97879618, -0.7442683 ,  0.24819278],\n",
              "       [-1.02166316,  1.02429004,  2.07775825],\n",
              "       [ 0.97879618, -0.54776182,  1.36953936],\n",
              "       [ 0.97879618, -0.05649561,  0.01211982],\n",
              "       [ 0.97879618, -1.9233072 ,  0.45475663],\n",
              "       [ 0.97879618,  0.43477059,  0.24819278],\n",
              "       [ 0.97879618, -1.03902802,  0.39573838],\n",
              "       [-1.02166316,  0.23826411, -0.16493491],\n",
              "       [-1.02166316,  1.90856921,  0.10064718],\n",
              "       [ 0.97879618, -1.13728127, -1.64039093],\n",
              "       [ 0.97879618, -1.13728127,  0.2777019 ],\n",
              "       [-1.02166316, -0.84252154, -0.81413556],\n",
              "       [ 0.97879618, -0.44950858,  2.31383122],\n",
              "       [-1.02166316,  0.14001087, -0.84364468],\n",
              "       [ 0.97879618,  1.61380949,  0.98592079],\n",
              "       [-1.02166316, -0.15474885, -1.10922676],\n",
              "       [ 0.97879618,  0.82778356, -1.13873588],\n",
              "       [ 0.97879618,  0.23826411,  2.10726737],\n",
              "       [ 0.97879618, -0.05649561, -0.25346227],\n",
              "       [-1.02166316, -0.84252154,  2.2843221 ],\n",
              "       [ 0.97879618, -0.05649561, -0.40100787],\n",
              "       [-1.02166316, -0.2530021 , -0.60757171],\n",
              "       [ 0.97879618,  0.43477059, -0.51904435],\n",
              "       [-1.02166316, -0.2530021 , -0.96168116],\n",
              "       [ 0.97879618,  0.33651735, -1.19775412],\n",
              "       [ 0.97879618,  0.23826411,  0.04162894],\n",
              "       [-1.02166316, -1.13728127, -1.64039093],\n",
              "       [ 0.97879618, -0.64601506, -0.07640754],\n",
              "       [-1.02166316, -0.2530021 , -0.51904435],\n",
              "       [ 0.97879618, -0.2530021 , -1.34529973],\n",
              "       [-1.02166316, -0.7442683 ,  0.54328399],\n",
              "       [-1.02166316,  0.33651735,  0.04162894],\n",
              "       [-1.02166316, -0.94077478,  1.54659408],\n",
              "       [ 0.97879618,  0.82778356,  0.33672014],\n",
              "       [ 0.97879618, -1.53029423, -0.22395315],\n",
              "       [ 0.97879618,  0.72953032, -1.43382709],\n",
              "       [-1.02166316, -0.7442683 , -0.63708083],\n",
              "       [ 0.97879618, -0.35125534, -1.34529973],\n",
              "       [ 0.97879618,  0.23826411,  0.1301563 ],\n",
              "       [ 0.97879618, -0.54776182,  1.36953936],\n",
              "       [ 0.97879618, -1.43204099,  0.33672014],\n",
              "       [-1.02166316, -1.13728127,  0.2777019 ],\n",
              "       [ 0.97879618,  1.02429004,  1.78266705],\n",
              "       [-1.02166316,  2.10507569,  2.13677649],\n",
              "       [-1.02166316, -0.2530021 , -0.46002611],\n",
              "       [-1.02166316, -0.35125534, -0.81413556],\n",
              "       [ 0.97879618,  0.14001087, -0.28297139],\n",
              "       [ 0.97879618, -1.03902802,  0.74984783],\n",
              "       [-1.02166316,  2.20332893,  0.36622926],\n",
              "       [-1.02166316, -1.33378775, -0.46002611],\n",
              "       [-1.02166316,  2.00682245,  2.16628562],\n",
              "       [ 0.97879618,  1.51555624,  0.98592079],\n",
              "       [-1.02166316, -0.2530021 ,  0.24819278],\n",
              "       [-1.02166316, -0.15474885,  0.83837519],\n",
              "       [-1.02166316,  1.90856921, -0.31248051],\n",
              "       [ 0.97879618, -0.05649561,  1.95972177],\n",
              "       [-1.02166316, -0.44950858, -0.81413556],\n",
              "       [ 0.97879618,  0.33651735,  0.01211982],\n",
              "       [ 0.97879618,  1.417303  , -1.46333621],\n",
              "       [-1.02166316,  1.417303  ,  2.34334034],\n",
              "       [-1.02166316, -0.05649561, -0.0173893 ],\n",
              "       [ 0.97879618, -1.13728127,  0.39573838],\n",
              "       [ 0.97879618, -1.13728127,  0.04162894],\n",
              "       [ 0.97879618, -1.13728127, -0.54855347],\n",
              "       [ 0.97879618,  0.33651735, -0.31248051],\n",
              "       [-1.02166316, -0.64601506, -0.13542579],\n",
              "       [-1.02166316, -0.05649561,  2.16628562],\n",
              "       [-1.02166316,  0.04175763, -0.28297139],\n",
              "       [ 0.97879618, -0.64601506, -1.07971764],\n",
              "       [ 0.97879618,  0.43477059,  0.1301563 ],\n",
              "       [-1.02166316,  0.82778356,  1.36953936],\n",
              "       [-1.02166316, -0.15474885, -0.54855347],\n",
              "       [-1.02166316,  0.04175763,  0.01211982],\n",
              "       [-1.02166316,  1.12254328,  0.51377487],\n",
              "       [ 0.97879618,  1.90856921, -1.10922676],\n",
              "       [ 0.97879618,  1.02429004,  1.98923089],\n",
              "       [ 0.97879618,  0.9260368 , -0.60757171],\n",
              "       [ 0.97879618, -0.44950858, -0.04689842],\n",
              "       [ 0.97879618, -0.05649561,  2.22530386],\n",
              "       [ 0.97879618, -1.72680071,  0.33672014],\n",
              "       [-1.02166316,  0.23826411, -0.69609908],\n",
              "       [-1.02166316, -0.2530021 , -1.43382709],\n",
              "       [ 0.97879618, -1.72680071, -1.0206994 ],\n",
              "       [ 0.97879618,  0.72953032, -0.75511732],\n",
              "       [ 0.97879618, -1.13728127, -0.81413556],\n",
              "       [ 0.97879618,  2.00682245,  0.89739343],\n",
              "       [-1.02166316,  0.23826411, -0.40100787],\n",
              "       [ 0.97879618,  0.04175763,  1.22199376],\n",
              "       [ 0.97879618, -0.05649561,  0.2777019 ],\n",
              "       [-1.02166316,  1.12254328, -1.25677236],\n",
              "       [ 0.97879618, -0.15474885,  0.1301563 ],\n",
              "       [ 0.97879618,  0.33651735,  0.04162894],\n",
              "       [ 0.97879618, -0.2530021 , -0.31248051],\n",
              "       [-1.02166316,  0.53302383,  1.72364881],\n",
              "       [-1.02166316,  0.33651735,  0.48426575],\n",
              "       [ 0.97879618,  0.04175763,  1.25150288],\n",
              "       [ 0.97879618,  2.00682245, -1.40431797],\n",
              "       [-1.02166316, -1.13728127, -1.13873588],\n",
              "       [-1.02166316, -0.54776182, -1.55186357],\n",
              "       [-1.02166316,  0.33651735, -0.54855347],\n",
              "       [-1.02166316, -0.64601506, -1.55186357],\n",
              "       [-1.02166316, -0.2530021 ,  0.51377487],\n",
              "       [ 0.97879618,  1.02429004, -1.05020852],\n",
              "       [-1.02166316, -1.03902802,  0.54328399],\n",
              "       [ 0.97879618, -0.2530021 ,  0.77935695],\n",
              "       [-1.02166316,  0.43477059,  0.07113806],\n",
              "       [ 0.97879618, -1.62854747, -0.07640754],\n",
              "       [ 0.97879618,  0.33651735,  0.04162894],\n",
              "       [ 0.97879618, -0.44950858, -0.31248051],\n",
              "       [-1.02166316,  0.14001087,  1.87119441],\n",
              "       [ 0.97879618, -0.94077478,  0.39573838],\n",
              "       [-1.02166316,  0.82778356,  0.51377487],\n",
              "       [-1.02166316, -1.33378775, -0.37149875],\n",
              "       [ 0.97879618, -0.64601506,  1.39904848],\n",
              "       [ 0.97879618,  1.22079652,  0.51377487],\n",
              "       [ 0.97879618, -1.72680071,  0.33672014],\n",
              "       [ 0.97879618, -0.54776182,  1.90070353],\n",
              "       [-1.02166316, -1.72680071,  0.45475663],\n",
              "       [-1.02166316, -0.2530021 , -1.28628149],\n",
              "       [-1.02166316, -0.84252154, -0.81413556],\n",
              "       [-1.02166316, -1.62854747,  0.51377487],\n",
              "       [-1.02166316, -0.2530021 , -0.34198963],\n",
              "       [-1.02166316,  0.72953032, -1.13873588],\n",
              "       [-1.02166316,  2.20332893, -0.84364468],\n",
              "       [-1.02166316, -0.2530021 ,  0.60230223],\n",
              "       [ 0.97879618, -0.2530021 , -0.78462644],\n",
              "       [ 0.97879618, -1.9233072 , -0.78462644],\n",
              "       [-1.02166316,  0.43477059,  2.31383122],\n",
              "       [-1.02166316,  0.72953032,  0.24819278],\n",
              "       [ 0.97879618,  0.23826411, -0.31248051],\n",
              "       [-1.02166316, -1.33378775, -1.40431797],\n",
              "       [ 0.97879618, -0.44950858, -0.57806259],\n",
              "       [ 0.97879618,  0.43477059, -0.0173893 ],\n",
              "       [ 0.97879618,  1.71206273,  1.75315793],\n",
              "       [ 0.97879618,  1.22079652, -0.78462644],\n",
              "       [ 0.97879618,  1.02429004,  1.4285576 ],\n",
              "       [-1.02166316, -1.82505395,  0.15966542],\n",
              "       [ 0.97879618,  0.33651735,  0.04162894],\n",
              "       [-1.02166316,  0.23826411,  0.01211982],\n",
              "       [-1.02166316, -1.03902802,  0.51377487],\n",
              "       [ 0.97879618, -0.15474885,  1.63512145],\n",
              "       [-1.02166316, -0.2530021 ,  0.1301563 ],\n",
              "       [-1.02166316, -0.2530021 , -0.37149875],\n",
              "       [-1.02166316, -0.35125534,  1.31052112],\n",
              "       [-1.02166316, -0.2530021 ,  0.07113806],\n",
              "       [ 0.97879618,  2.20332893,  1.10395728],\n",
              "       [-1.02166316, -1.23553451,  0.48426575],\n",
              "       [ 0.97879618, -1.03902802, -0.48953523],\n",
              "       [ 0.97879618, -1.62854747, -1.61088181],\n",
              "       [-1.02166316, -0.05649561,  0.10064718],\n",
              "       [-1.02166316, -0.2530021 , -0.93217204],\n",
              "       [-1.02166316,  1.61380949, -0.0173893 ],\n",
              "       [ 0.97879618,  0.9260368 , -1.19775412],\n",
              "       [ 0.97879618,  0.04175763, -0.60757171],\n",
              "       [ 0.97879618, -0.2530021 ,  2.25481298],\n",
              "       [ 0.97879618, -0.2530021 ,  0.18917454],\n",
              "       [-1.02166316,  0.33651735,  0.24819278],\n",
              "       [ 0.97879618, -0.05649561, -1.10922676],\n",
              "       [ 0.97879618,  2.20332893, -0.7256082 ],\n",
              "       [ 0.97879618, -0.94077478, -0.34198963],\n",
              "       [ 0.97879618, -1.43204099, -0.13542579],\n",
              "       [-1.02166316, -1.43204099, -0.22395315],\n",
              "       [-1.02166316, -0.7442683 , -1.58137269],\n",
              "       [-1.02166316, -1.23553451, -1.10922676],\n",
              "       [ 0.97879618,  2.10507569,  0.36622926],\n",
              "       [ 0.97879618,  2.00682245, -0.96168116],\n",
              "       [-1.02166316, -1.9233072 ,  0.33672014],\n",
              "       [-1.02166316,  0.82778356, -0.34198963],\n",
              "       [ 0.97879618, -1.03902802, -1.58137269],\n",
              "       [ 0.97879618,  2.00682245, -0.69609908],\n",
              "       [ 0.97879618,  1.02429004, -1.19775412],\n",
              "       [-1.02166316,  1.12254328, -0.16493491],\n",
              "       [ 0.97879618,  1.22079652, -1.0206994 ],\n",
              "       [-1.02166316,  1.51555624,  0.04162894],\n",
              "       [-1.02166316,  0.23826411, -0.40100787],\n",
              "       [ 0.97879618,  1.417303  ,  1.281012  ],\n",
              "       [ 0.97879618,  2.10507569, -0.84364468],\n",
              "       [ 0.97879618, -0.15474885, -0.22395315],\n",
              "       [-1.02166316,  0.43477059,  0.98592079],\n",
              "       [-1.02166316, -0.05649561, -0.54855347],\n",
              "       [-1.02166316,  1.02429004, -1.10922676],\n",
              "       [ 0.97879618,  2.10507569, -1.22726324],\n",
              "       [-1.02166316, -0.05649561,  0.24819278],\n",
              "       [-1.02166316,  0.23826411, -0.28297139],\n",
              "       [-1.02166316,  1.12254328,  0.10064718],\n",
              "       [-1.02166316, -1.23553451,  0.57279311],\n",
              "       [-1.02166316, -0.7442683 , -1.64039093],\n",
              "       [-1.02166316,  0.23826411,  0.21868366],\n",
              "       [-1.02166316, -1.33378775,  0.39573838],\n",
              "       [ 0.97879618,  0.04175763, -0.60757171],\n",
              "       [ 0.97879618,  0.72953032,  1.78266705],\n",
              "       [-1.02166316, -1.62854747,  0.04162894],\n",
              "       [ 0.97879618, -0.2530021 , -1.40431797],\n",
              "       [-1.02166316, -0.2530021 , -1.49284533],\n",
              "       [ 0.97879618, -0.64601506,  0.54328399],\n",
              "       [-1.02166316, -0.7442683 ,  0.2777019 ],\n",
              "       [ 0.97879618,  0.9260368 , -0.69609908],\n",
              "       [-1.02166316, -1.03902802,  0.57279311],\n",
              "       [ 0.97879618, -0.2530021 ,  0.04162894],\n",
              "       [ 0.97879618, -0.7442683 ,  1.34003024],\n",
              "       [-1.02166316,  0.14001087,  1.51708496],\n",
              "       [ 0.97879618, -0.84252154,  0.36622926],\n",
              "       [ 0.97879618,  0.33651735, -0.22395315],\n",
              "       [-1.02166316,  1.02429004,  0.57279311],\n",
              "       [-1.02166316,  0.04175763, -0.34198963],\n",
              "       [-1.02166316, -0.54776182, -1.55186357],\n",
              "       [ 0.97879618,  0.14001087,  0.1301563 ],\n",
              "       [-1.02166316, -1.13728127,  0.30721102],\n",
              "       [-1.02166316,  0.14001087,  1.04493904],\n",
              "       [ 0.97879618, -1.53029423, -0.46002611],\n",
              "       [-1.02166316, -0.15474885,  1.39904848],\n",
              "       [-1.02166316,  2.20332893, -0.84364468],\n",
              "       [ 0.97879618, -0.94077478, -0.46002611],\n",
              "       [ 0.97879618,  1.31904976,  1.87119441],\n",
              "       [-1.02166316,  1.12254328, -1.25677236],\n",
              "       [-1.02166316, -0.15474885, -0.31248051],\n",
              "       [ 0.97879618,  1.81031597,  0.98592079],\n",
              "       [ 0.97879618, -1.03902802, -0.37149875],\n",
              "       [ 0.97879618, -1.33378775, -1.13873588],\n",
              "       [ 0.97879618, -0.35125534,  0.04162894],\n",
              "       [-1.02166316, -0.94077478, -1.13873588],\n",
              "       [ 0.97879618,  1.22079652, -1.49284533],\n",
              "       [ 0.97879618, -0.44950858, -0.8731538 ],\n",
              "       [ 0.97879618, -0.84252154, -0.69609908],\n",
              "       [-1.02166316, -1.53029423, -1.55186357],\n",
              "       [-1.02166316, -0.7442683 ,  1.90070353],\n",
              "       [-1.02166316,  0.9260368 ,  1.01542992],\n",
              "       [-1.02166316,  0.82778356,  0.24819278],\n",
              "       [ 0.97879618,  1.02429004,  1.87119441],\n",
              "       [ 0.97879618,  0.9260368 , -0.63708083],\n",
              "       [ 0.97879618,  1.12254328,  2.07775825],\n",
              "       [-1.02166316, -0.54776182,  0.86788431],\n",
              "       [-1.02166316,  0.04175763,  0.01211982],\n",
              "       [ 0.97879618, -1.82505395, -1.31579061],\n",
              "       [-1.02166316, -0.05649561,  0.18917454],\n",
              "       [ 0.97879618,  0.9260368 , -0.57806259],\n",
              "       [-1.02166316,  0.23826411, -0.40100787],\n",
              "       [-1.02166316, -0.15474885,  1.60561233],\n",
              "       [-1.02166316, -1.72680071,  0.10064718],\n",
              "       [-1.02166316, -0.64601506, -0.37149875],\n",
              "       [-1.02166316,  0.33651735, -0.75511732],\n",
              "       [-1.02166316,  0.43477059, -0.48953523],\n",
              "       [ 0.97879618, -0.94077478, -0.99119028],\n",
              "       [ 0.97879618,  0.14001087,  0.07113806],\n",
              "       [ 0.97879618, -0.94077478,  0.4252475 ],\n",
              "       [-1.02166316,  0.04175763, -0.57806259],\n",
              "       [-1.02166316,  0.9260368 , -0.81413556],\n",
              "       [-1.02166316, -0.05649561,  0.04162894],\n",
              "       [ 0.97879618,  1.12254328, -1.0206994 ],\n",
              "       [-1.02166316,  0.72953032, -1.43382709],\n",
              "       [-1.02166316, -0.2530021 ,  0.04162894],\n",
              "       [ 0.97879618, -1.33378775, -1.28628149],\n",
              "       [ 0.97879618, -1.13728127, -1.05020852],\n",
              "       [ 0.97879618,  0.53302383,  1.84168529],\n",
              "       [-1.02166316,  0.14001087,  0.18917454],\n",
              "       [ 0.97879618, -0.54776182,  0.45475663]])"
            ]
          },
          "metadata": {
            "tags": []
          },
          "execution_count": 18
        }
      ]
    },
    {
      "cell_type": "markdown",
      "metadata": {
        "id": "dBRrfQfrt1NR"
      },
      "source": [
        "## Fit logistic model"
      ]
    },
    {
      "cell_type": "code",
      "metadata": {
        "id": "SwdSSNpVqxTM"
      },
      "source": [
        "from sklearn.linear_model import LogisticRegression"
      ],
      "execution_count": 19,
      "outputs": []
    },
    {
      "cell_type": "code",
      "metadata": {
        "id": "p5x4NndlTfAw"
      },
      "source": [
        "logitmod = LogisticRegression()"
      ],
      "execution_count": 20,
      "outputs": []
    },
    {
      "cell_type": "code",
      "metadata": {
        "colab": {
          "base_uri": "https://localhost:8080/"
        },
        "id": "eMjpTr1rcGB-",
        "outputId": "5dc14c89-5b77-4548-fd19-b02b0d733d83"
      },
      "source": [
        "logitmod.fit(X_train, y_train)"
      ],
      "execution_count": 21,
      "outputs": [
        {
          "output_type": "execute_result",
          "data": {
            "text/plain": [
              "LogisticRegression(C=1.0, class_weight=None, dual=False, fit_intercept=True,\n",
              "                   intercept_scaling=1, l1_ratio=None, max_iter=100,\n",
              "                   multi_class='auto', n_jobs=None, penalty='l2',\n",
              "                   random_state=None, solver='lbfgs', tol=0.0001, verbose=0,\n",
              "                   warm_start=False)"
            ]
          },
          "metadata": {
            "tags": []
          },
          "execution_count": 21
        }
      ]
    },
    {
      "cell_type": "markdown",
      "metadata": {
        "id": "ixc-jVcYTgQ0"
      },
      "source": [
        "### Model evaluations"
      ]
    },
    {
      "cell_type": "code",
      "metadata": {
        "id": "FS8HPxUTsOfd"
      },
      "source": [
        "from sklearn.metrics import classification_report, confusion_matrix"
      ],
      "execution_count": 22,
      "outputs": []
    },
    {
      "cell_type": "code",
      "metadata": {
        "colab": {
          "base_uri": "https://localhost:8080/"
        },
        "id": "_zxMyAjrTlue",
        "outputId": "7a4d95c8-9f68-44b3-a859-5f318d9eed81"
      },
      "source": [
        "pred_logit = logitmod.predict(X_test)\r\n",
        "pred_logit"
      ],
      "execution_count": 23,
      "outputs": [
        {
          "output_type": "execute_result",
          "data": {
            "text/plain": [
              "array([0, 1, 0, 1, 0, 0, 1, 0, 0, 0, 0, 1, 0, 0, 0, 0, 1, 1, 0, 1, 0, 0,\n",
              "       0, 1, 0, 1, 1, 0, 1, 0, 0, 0, 1, 0, 1, 0, 0, 0, 0, 0, 0, 0, 0, 0,\n",
              "       0, 1, 0, 0, 1, 0, 0, 1, 0, 0, 0, 0, 1, 0, 0, 0, 0, 0, 1, 0, 0, 0,\n",
              "       1, 1, 0, 0, 1, 0, 0, 0, 0, 0, 1, 1, 0, 0, 0, 0, 1, 0, 1, 0, 0, 1,\n",
              "       0, 0, 1, 0, 0, 0, 0, 0, 1, 0, 1, 0, 1, 0, 0, 0, 0, 1, 0, 0, 1, 0,\n",
              "       0, 0, 1, 0, 1, 0, 0, 0, 0, 0])"
            ]
          },
          "metadata": {
            "tags": []
          },
          "execution_count": 23
        }
      ]
    },
    {
      "cell_type": "code",
      "metadata": {
        "colab": {
          "base_uri": "https://localhost:8080/"
        },
        "id": "lSLjnvBvdH5u",
        "outputId": "1c8f0876-c4ab-4cdc-acc7-5b44edf7cf38"
      },
      "source": [
        "confusion_matrix(y_test, pred_logit)"
      ],
      "execution_count": 24,
      "outputs": [
        {
          "output_type": "execute_result",
          "data": {
            "text/plain": [
              "array([[71,  2],\n",
              "       [15, 32]])"
            ]
          },
          "metadata": {
            "tags": []
          },
          "execution_count": 24
        }
      ]
    },
    {
      "cell_type": "code",
      "metadata": {
        "colab": {
          "base_uri": "https://localhost:8080/"
        },
        "id": "Qlifn_07dvoD",
        "outputId": "dfd10f1e-57a1-4033-ede2-d5d6087455b5"
      },
      "source": [
        "print(classification_report(y_test, pred_logit))"
      ],
      "execution_count": 25,
      "outputs": [
        {
          "output_type": "stream",
          "text": [
            "              precision    recall  f1-score   support\n",
            "\n",
            "           0       0.83      0.97      0.89        73\n",
            "           1       0.94      0.68      0.79        47\n",
            "\n",
            "    accuracy                           0.86       120\n",
            "   macro avg       0.88      0.83      0.84       120\n",
            "weighted avg       0.87      0.86      0.85       120\n",
            "\n"
          ],
          "name": "stdout"
        }
      ]
    },
    {
      "cell_type": "markdown",
      "metadata": {
        "id": "saGI532RxR91"
      },
      "source": [
        "## KNN classifier\r\n"
      ]
    },
    {
      "cell_type": "code",
      "metadata": {
        "id": "3gT0g3eKvEFY"
      },
      "source": [
        "from sklearn.neighbors import KNeighborsClassifier\r\n"
      ],
      "execution_count": 26,
      "outputs": []
    },
    {
      "cell_type": "code",
      "metadata": {
        "id": "P6fMkUUw3JqG",
        "colab": {
          "base_uri": "https://localhost:8080/"
        },
        "outputId": "4eff5d1f-1b96-412d-87fc-0db55b03d32e"
      },
      "source": [
        "knnmod = KNeighborsClassifier(n_neighbors = 2)\r\n",
        "knnmod.fit(X_train, y_train)"
      ],
      "execution_count": 27,
      "outputs": [
        {
          "output_type": "execute_result",
          "data": {
            "text/plain": [
              "KNeighborsClassifier(algorithm='auto', leaf_size=30, metric='minkowski',\n",
              "                     metric_params=None, n_jobs=None, n_neighbors=2, p=2,\n",
              "                     weights='uniform')"
            ]
          },
          "metadata": {
            "tags": []
          },
          "execution_count": 27
        }
      ]
    },
    {
      "cell_type": "code",
      "metadata": {
        "colab": {
          "base_uri": "https://localhost:8080/"
        },
        "id": "1Syps-0Y3FCf",
        "outputId": "07638fb6-6824-4d6d-b938-a52e51ee3d72"
      },
      "source": [
        "pred_knn = knnmod.predict(X_test)\r\n",
        "pred_knn"
      ],
      "execution_count": 28,
      "outputs": [
        {
          "output_type": "execute_result",
          "data": {
            "text/plain": [
              "array([1, 0, 0, 0, 0, 0, 0, 0, 0, 0, 0, 1, 0, 0, 0, 0, 0, 0, 0, 1, 0, 0,\n",
              "       1, 0, 0, 1, 0, 0, 0, 0, 0, 0, 1, 0, 1, 0, 0, 0, 0, 0, 1, 0, 0, 1,\n",
              "       0, 0, 0, 0, 0, 0, 0, 0, 0, 0, 0, 0, 1, 0, 0, 0, 0, 0, 1, 0, 0, 1,\n",
              "       0, 1, 0, 0, 0, 0, 0, 0, 1, 0, 1, 1, 0, 0, 0, 1, 1, 1, 1, 0, 0, 0,\n",
              "       0, 0, 1, 0, 0, 0, 0, 0, 1, 0, 0, 0, 1, 0, 1, 0, 0, 1, 1, 0, 1, 0,\n",
              "       0, 0, 1, 1, 1, 0, 0, 0, 0, 0])"
            ]
          },
          "metadata": {
            "tags": []
          },
          "execution_count": 28
        }
      ]
    },
    {
      "cell_type": "code",
      "metadata": {
        "colab": {
          "base_uri": "https://localhost:8080/"
        },
        "id": "Q6NjGGN43FCg",
        "outputId": "c3dfa621-cb29-4e18-cbdc-34485b6183e5"
      },
      "source": [
        "confusion_matrix(y_test, pred_knn)"
      ],
      "execution_count": 29,
      "outputs": [
        {
          "output_type": "execute_result",
          "data": {
            "text/plain": [
              "array([[71,  2],\n",
              "       [19, 28]])"
            ]
          },
          "metadata": {
            "tags": []
          },
          "execution_count": 29
        }
      ]
    },
    {
      "cell_type": "code",
      "metadata": {
        "colab": {
          "base_uri": "https://localhost:8080/"
        },
        "id": "mzubY-8A3FCg",
        "outputId": "50b72d80-88d3-4bbc-e6af-d64252b84f8c"
      },
      "source": [
        "print(classification_report(y_test, pred_logit))"
      ],
      "execution_count": 30,
      "outputs": [
        {
          "output_type": "stream",
          "text": [
            "              precision    recall  f1-score   support\n",
            "\n",
            "           0       0.83      0.97      0.89        73\n",
            "           1       0.94      0.68      0.79        47\n",
            "\n",
            "    accuracy                           0.86       120\n",
            "   macro avg       0.88      0.83      0.84       120\n",
            "weighted avg       0.87      0.86      0.85       120\n",
            "\n"
          ],
          "name": "stdout"
        }
      ]
    },
    {
      "cell_type": "markdown",
      "metadata": {
        "id": "6UNAQ5D53Cgu"
      },
      "source": [
        ""
      ]
    },
    {
      "cell_type": "code",
      "metadata": {
        "colab": {
          "base_uri": "https://localhost:8080/"
        },
        "id": "DW32CTnR3DDG",
        "outputId": "2b65c0e2-3b13-4da3-bf41-584889cecb4c"
      },
      "source": [
        "pred_logit = logitmod.predict(X_test)\r\n",
        "pred_logit"
      ],
      "execution_count": 31,
      "outputs": [
        {
          "output_type": "execute_result",
          "data": {
            "text/plain": [
              "array([0, 1, 0, 1, 0, 0, 1, 0, 0, 0, 0, 1, 0, 0, 0, 0, 1, 1, 0, 1, 0, 0,\n",
              "       0, 1, 0, 1, 1, 0, 1, 0, 0, 0, 1, 0, 1, 0, 0, 0, 0, 0, 0, 0, 0, 0,\n",
              "       0, 1, 0, 0, 1, 0, 0, 1, 0, 0, 0, 0, 1, 0, 0, 0, 0, 0, 1, 0, 0, 0,\n",
              "       1, 1, 0, 0, 1, 0, 0, 0, 0, 0, 1, 1, 0, 0, 0, 0, 1, 0, 1, 0, 0, 1,\n",
              "       0, 0, 1, 0, 0, 0, 0, 0, 1, 0, 1, 0, 1, 0, 0, 0, 0, 1, 0, 0, 1, 0,\n",
              "       0, 0, 1, 0, 1, 0, 0, 0, 0, 0])"
            ]
          },
          "metadata": {
            "tags": []
          },
          "execution_count": 31
        }
      ]
    },
    {
      "cell_type": "code",
      "metadata": {
        "colab": {
          "base_uri": "https://localhost:8080/"
        },
        "id": "iX1jeY0w3DDI",
        "outputId": "7618acee-d6bb-4731-c693-a80066516d43"
      },
      "source": [
        "confusion_matrix(y_test, pred_logit)"
      ],
      "execution_count": 32,
      "outputs": [
        {
          "output_type": "execute_result",
          "data": {
            "text/plain": [
              "array([[71,  2],\n",
              "       [15, 32]])"
            ]
          },
          "metadata": {
            "tags": []
          },
          "execution_count": 32
        }
      ]
    },
    {
      "cell_type": "code",
      "metadata": {
        "colab": {
          "base_uri": "https://localhost:8080/"
        },
        "id": "iojt7hQo3DDI",
        "outputId": "0264f209-26ad-4c56-935f-774beb5bf312"
      },
      "source": [
        "print(classification_report(y_test, pred_knn))"
      ],
      "execution_count": 33,
      "outputs": [
        {
          "output_type": "stream",
          "text": [
            "              precision    recall  f1-score   support\n",
            "\n",
            "           0       0.79      0.97      0.87        73\n",
            "           1       0.93      0.60      0.73        47\n",
            "\n",
            "    accuracy                           0.82       120\n",
            "   macro avg       0.86      0.78      0.80       120\n",
            "weighted avg       0.85      0.82      0.81       120\n",
            "\n"
          ],
          "name": "stdout"
        }
      ]
    },
    {
      "cell_type": "markdown",
      "metadata": {
        "id": "q1GzrqD-x_4A"
      },
      "source": [
        "### Parameter tuning for KNN\r\n",
        "\r\n",
        "- Parameter tuning will be done using cross-validation\r\n",
        "- Reestimate the models for the different values of tuning parameters\r\n",
        "  - For KNN, try different values of _k_\r\n",
        "- By default, for classification tasks\r\n",
        "- For more information, see Chapter 5 of Gareth et al\r\n",
        "\r\n",
        "\r\n"
      ]
    },
    {
      "cell_type": "code",
      "metadata": {
        "id": "tjJVLYGI0GvL",
        "colab": {
          "base_uri": "https://localhost:8080/"
        },
        "outputId": "9e89a39f-1a7a-4b38-cc45-5ecedeeb26bf"
      },
      "source": [
        "from sklearn.model_selection import GridSearchCV\r\n",
        "knn2 = KNeighborsClassifier()\r\n",
        "param_grid = {'n_neighbors': np.arange(1, 25)}\r\n",
        "knn_cv = GridSearchCV(knn2, param_grid, cv=5, verbose = 2)\r\n",
        "#fit model to data\r\n",
        "knn_cv.fit(X_train, y_train)"
      ],
      "execution_count": 34,
      "outputs": [
        {
          "output_type": "stream",
          "text": [
            "Fitting 5 folds for each of 24 candidates, totalling 120 fits\n",
            "[CV] n_neighbors=1 ...................................................\n",
            "[CV] .................................... n_neighbors=1, total=   0.0s\n",
            "[CV] n_neighbors=1 ...................................................\n",
            "[CV] .................................... n_neighbors=1, total=   0.0s\n",
            "[CV] n_neighbors=1 ...................................................\n",
            "[CV] .................................... n_neighbors=1, total=   0.0s\n",
            "[CV] n_neighbors=1 ...................................................\n",
            "[CV] .................................... n_neighbors=1, total=   0.0s\n",
            "[CV] n_neighbors=1 ...................................................\n",
            "[CV] .................................... n_neighbors=1, total=   0.0s\n",
            "[CV] n_neighbors=2 ...................................................\n",
            "[CV] .................................... n_neighbors=2, total=   0.0s\n",
            "[CV] n_neighbors=2 ...................................................\n",
            "[CV] .................................... n_neighbors=2, total=   0.0s\n",
            "[CV] n_neighbors=2 ...................................................\n",
            "[CV] .................................... n_neighbors=2, total=   0.0s\n",
            "[CV] n_neighbors=2 ...................................................\n",
            "[CV] .................................... n_neighbors=2, total=   0.0s\n",
            "[CV] n_neighbors=2 ...................................................\n",
            "[CV] .................................... n_neighbors=2, total=   0.0s\n",
            "[CV] n_neighbors=3 ...................................................\n",
            "[CV] .................................... n_neighbors=3, total=   0.0s\n",
            "[CV] n_neighbors=3 ...................................................\n",
            "[CV] .................................... n_neighbors=3, total=   0.0s\n",
            "[CV] n_neighbors=3 ...................................................\n",
            "[CV] .................................... n_neighbors=3, total=   0.0s\n",
            "[CV] n_neighbors=3 ...................................................\n",
            "[CV] .................................... n_neighbors=3, total=   0.0s\n",
            "[CV] n_neighbors=3 ...................................................\n",
            "[CV] .................................... n_neighbors=3, total=   0.0s\n",
            "[CV] n_neighbors=4 ...................................................\n",
            "[CV] .................................... n_neighbors=4, total=   0.0s\n",
            "[CV] n_neighbors=4 ...................................................\n",
            "[CV] .................................... n_neighbors=4, total=   0.0s\n",
            "[CV] n_neighbors=4 ...................................................\n",
            "[CV] .................................... n_neighbors=4, total=   0.0s\n",
            "[CV] n_neighbors=4 ...................................................\n",
            "[CV] .................................... n_neighbors=4, total=   0.0s\n",
            "[CV] n_neighbors=4 ...................................................\n",
            "[CV] .................................... n_neighbors=4, total=   0.0s\n",
            "[CV] n_neighbors=5 ...................................................\n",
            "[CV] .................................... n_neighbors=5, total=   0.0s\n",
            "[CV] n_neighbors=5 ...................................................\n",
            "[CV] .................................... n_neighbors=5, total=   0.0s\n",
            "[CV] n_neighbors=5 ...................................................\n",
            "[CV] .................................... n_neighbors=5, total=   0.0s\n",
            "[CV] n_neighbors=5 ...................................................\n",
            "[CV] .................................... n_neighbors=5, total=   0.0s\n",
            "[CV] n_neighbors=5 ...................................................\n",
            "[CV] .................................... n_neighbors=5, total=   0.0s\n",
            "[CV] n_neighbors=6 ...................................................\n",
            "[CV] .................................... n_neighbors=6, total=   0.0s\n",
            "[CV] n_neighbors=6 ...................................................\n",
            "[CV] .................................... n_neighbors=6, total=   0.0s\n",
            "[CV] n_neighbors=6 ...................................................\n",
            "[CV] .................................... n_neighbors=6, total=   0.0s\n",
            "[CV] n_neighbors=6 ...................................................\n",
            "[CV] .................................... n_neighbors=6, total=   0.0s\n",
            "[CV] n_neighbors=6 ...................................................\n",
            "[CV] .................................... n_neighbors=6, total=   0.0s\n",
            "[CV] n_neighbors=7 ...................................................\n",
            "[CV] .................................... n_neighbors=7, total=   0.0s\n",
            "[CV] n_neighbors=7 ...................................................\n",
            "[CV] .................................... n_neighbors=7, total=   0.0s\n",
            "[CV] n_neighbors=7 ...................................................\n",
            "[CV] .................................... n_neighbors=7, total=   0.0s\n",
            "[CV] n_neighbors=7 ...................................................\n",
            "[CV] .................................... n_neighbors=7, total=   0.0s\n",
            "[CV] n_neighbors=7 ...................................................\n",
            "[CV] .................................... n_neighbors=7, total=   0.0s\n",
            "[CV] n_neighbors=8 ...................................................\n",
            "[CV] .................................... n_neighbors=8, total=   0.0s\n",
            "[CV] n_neighbors=8 ...................................................\n",
            "[CV] .................................... n_neighbors=8, total=   0.0s\n",
            "[CV] n_neighbors=8 ...................................................\n",
            "[CV] .................................... n_neighbors=8, total=   0.0s\n",
            "[CV] n_neighbors=8 ...................................................\n",
            "[CV] .................................... n_neighbors=8, total=   0.0s\n",
            "[CV] n_neighbors=8 ...................................................\n",
            "[CV] .................................... n_neighbors=8, total=   0.0s\n",
            "[CV] n_neighbors=9 ...................................................\n",
            "[CV] .................................... n_neighbors=9, total=   0.0s\n",
            "[CV] n_neighbors=9 ...................................................\n",
            "[CV] .................................... n_neighbors=9, total=   0.0s\n",
            "[CV] n_neighbors=9 ...................................................\n"
          ],
          "name": "stdout"
        },
        {
          "output_type": "stream",
          "text": [
            "[Parallel(n_jobs=1)]: Using backend SequentialBackend with 1 concurrent workers.\n",
            "[Parallel(n_jobs=1)]: Done   1 out of   1 | elapsed:    0.0s remaining:    0.0s\n"
          ],
          "name": "stderr"
        },
        {
          "output_type": "stream",
          "text": [
            "[CV] .................................... n_neighbors=9, total=   0.0s\n",
            "[CV] n_neighbors=9 ...................................................\n",
            "[CV] .................................... n_neighbors=9, total=   0.0s\n",
            "[CV] n_neighbors=9 ...................................................\n",
            "[CV] .................................... n_neighbors=9, total=   0.0s\n",
            "[CV] n_neighbors=10 ..................................................\n",
            "[CV] ................................... n_neighbors=10, total=   0.0s\n",
            "[CV] n_neighbors=10 ..................................................\n",
            "[CV] ................................... n_neighbors=10, total=   0.0s\n",
            "[CV] n_neighbors=10 ..................................................\n",
            "[CV] ................................... n_neighbors=10, total=   0.0s\n",
            "[CV] n_neighbors=10 ..................................................\n",
            "[CV] ................................... n_neighbors=10, total=   0.0s\n",
            "[CV] n_neighbors=10 ..................................................\n",
            "[CV] ................................... n_neighbors=10, total=   0.0s\n",
            "[CV] n_neighbors=11 ..................................................\n",
            "[CV] ................................... n_neighbors=11, total=   0.0s\n",
            "[CV] n_neighbors=11 ..................................................\n",
            "[CV] ................................... n_neighbors=11, total=   0.0s\n",
            "[CV] n_neighbors=11 ..................................................\n",
            "[CV] ................................... n_neighbors=11, total=   0.0s\n",
            "[CV] n_neighbors=11 ..................................................\n",
            "[CV] ................................... n_neighbors=11, total=   0.0s\n",
            "[CV] n_neighbors=11 ..................................................\n",
            "[CV] ................................... n_neighbors=11, total=   0.0s\n",
            "[CV] n_neighbors=12 ..................................................\n",
            "[CV] ................................... n_neighbors=12, total=   0.0s\n",
            "[CV] n_neighbors=12 ..................................................\n",
            "[CV] ................................... n_neighbors=12, total=   0.0s\n",
            "[CV] n_neighbors=12 ..................................................\n",
            "[CV] ................................... n_neighbors=12, total=   0.0s\n",
            "[CV] n_neighbors=12 ..................................................\n",
            "[CV] ................................... n_neighbors=12, total=   0.0s\n",
            "[CV] n_neighbors=12 ..................................................\n",
            "[CV] ................................... n_neighbors=12, total=   0.0s\n",
            "[CV] n_neighbors=13 ..................................................\n",
            "[CV] ................................... n_neighbors=13, total=   0.0s\n",
            "[CV] n_neighbors=13 ..................................................\n",
            "[CV] ................................... n_neighbors=13, total=   0.0s\n",
            "[CV] n_neighbors=13 ..................................................\n",
            "[CV] ................................... n_neighbors=13, total=   0.0s\n",
            "[CV] n_neighbors=13 ..................................................\n",
            "[CV] ................................... n_neighbors=13, total=   0.0s\n",
            "[CV] n_neighbors=13 ..................................................\n",
            "[CV] ................................... n_neighbors=13, total=   0.0s\n",
            "[CV] n_neighbors=14 ..................................................\n",
            "[CV] ................................... n_neighbors=14, total=   0.0s\n",
            "[CV] n_neighbors=14 ..................................................\n",
            "[CV] ................................... n_neighbors=14, total=   0.0s\n",
            "[CV] n_neighbors=14 ..................................................\n",
            "[CV] ................................... n_neighbors=14, total=   0.0s\n",
            "[CV] n_neighbors=14 ..................................................\n",
            "[CV] ................................... n_neighbors=14, total=   0.0s\n",
            "[CV] n_neighbors=14 ..................................................\n",
            "[CV] ................................... n_neighbors=14, total=   0.0s\n",
            "[CV] n_neighbors=15 ..................................................\n",
            "[CV] ................................... n_neighbors=15, total=   0.0s\n",
            "[CV] n_neighbors=15 ..................................................\n",
            "[CV] ................................... n_neighbors=15, total=   0.0s\n",
            "[CV] n_neighbors=15 ..................................................\n",
            "[CV] ................................... n_neighbors=15, total=   0.0s\n",
            "[CV] n_neighbors=15 ..................................................\n",
            "[CV] ................................... n_neighbors=15, total=   0.0s\n",
            "[CV] n_neighbors=15 ..................................................\n",
            "[CV] ................................... n_neighbors=15, total=   0.0s\n",
            "[CV] n_neighbors=16 ..................................................\n",
            "[CV] ................................... n_neighbors=16, total=   0.0s\n",
            "[CV] n_neighbors=16 ..................................................\n",
            "[CV] ................................... n_neighbors=16, total=   0.0s\n",
            "[CV] n_neighbors=16 ..................................................\n",
            "[CV] ................................... n_neighbors=16, total=   0.0s\n",
            "[CV] n_neighbors=16 ..................................................\n",
            "[CV] ................................... n_neighbors=16, total=   0.0s\n",
            "[CV] n_neighbors=16 ..................................................\n",
            "[CV] ................................... n_neighbors=16, total=   0.0s\n",
            "[CV] n_neighbors=17 ..................................................\n",
            "[CV] ................................... n_neighbors=17, total=   0.0s\n",
            "[CV] n_neighbors=17 ..................................................\n",
            "[CV] ................................... n_neighbors=17, total=   0.0s\n",
            "[CV] n_neighbors=17 ..................................................\n",
            "[CV] ................................... n_neighbors=17, total=   0.0s\n",
            "[CV] n_neighbors=17 ..................................................\n",
            "[CV] ................................... n_neighbors=17, total=   0.0s\n",
            "[CV] n_neighbors=17 ..................................................\n",
            "[CV] ................................... n_neighbors=17, total=   0.0s\n",
            "[CV] n_neighbors=18 ..................................................\n",
            "[CV] ................................... n_neighbors=18, total=   0.0s\n",
            "[CV] n_neighbors=18 ..................................................\n",
            "[CV] ................................... n_neighbors=18, total=   0.0s\n",
            "[CV] n_neighbors=18 ..................................................\n",
            "[CV] ................................... n_neighbors=18, total=   0.0s\n",
            "[CV] n_neighbors=18 ..................................................\n",
            "[CV] ................................... n_neighbors=18, total=   0.0s\n",
            "[CV] n_neighbors=18 ..................................................\n",
            "[CV] ................................... n_neighbors=18, total=   0.0s\n",
            "[CV] n_neighbors=19 ..................................................\n",
            "[CV] ................................... n_neighbors=19, total=   0.0s\n",
            "[CV] n_neighbors=19 ..................................................\n",
            "[CV] ................................... n_neighbors=19, total=   0.0s\n",
            "[CV] n_neighbors=19 ..................................................\n",
            "[CV] ................................... n_neighbors=19, total=   0.0s\n",
            "[CV] n_neighbors=19 ..................................................\n",
            "[CV] ................................... n_neighbors=19, total=   0.0s\n",
            "[CV] n_neighbors=19 ..................................................\n",
            "[CV] ................................... n_neighbors=19, total=   0.0s\n",
            "[CV] n_neighbors=20 ..................................................\n",
            "[CV] ................................... n_neighbors=20, total=   0.0s\n",
            "[CV] n_neighbors=20 ..................................................\n",
            "[CV] ................................... n_neighbors=20, total=   0.0s\n",
            "[CV] n_neighbors=20 ..................................................\n",
            "[CV] ................................... n_neighbors=20, total=   0.0s\n",
            "[CV] n_neighbors=20 ..................................................\n",
            "[CV] ................................... n_neighbors=20, total=   0.0s\n",
            "[CV] n_neighbors=20 ..................................................\n",
            "[CV] ................................... n_neighbors=20, total=   0.0s\n",
            "[CV] n_neighbors=21 ..................................................\n",
            "[CV] ................................... n_neighbors=21, total=   0.0s\n",
            "[CV] n_neighbors=21 ..................................................\n",
            "[CV] ................................... n_neighbors=21, total=   0.0s\n",
            "[CV] n_neighbors=21 ..................................................\n",
            "[CV] ................................... n_neighbors=21, total=   0.0s\n",
            "[CV] n_neighbors=21 ..................................................\n",
            "[CV] ................................... n_neighbors=21, total=   0.0s\n",
            "[CV] n_neighbors=21 ..................................................\n",
            "[CV] ................................... n_neighbors=21, total=   0.0s\n",
            "[CV] n_neighbors=22 ..................................................\n",
            "[CV] ................................... n_neighbors=22, total=   0.0s\n",
            "[CV] n_neighbors=22 ..................................................\n",
            "[CV] ................................... n_neighbors=22, total=   0.0s\n",
            "[CV] n_neighbors=22 ..................................................\n",
            "[CV] ................................... n_neighbors=22, total=   0.0s\n",
            "[CV] n_neighbors=22 ..................................................\n",
            "[CV] ................................... n_neighbors=22, total=   0.0s\n",
            "[CV] n_neighbors=22 ..................................................\n",
            "[CV] ................................... n_neighbors=22, total=   0.0s\n",
            "[CV] n_neighbors=23 ..................................................\n",
            "[CV] ................................... n_neighbors=23, total=   0.0s\n",
            "[CV] n_neighbors=23 ..................................................\n",
            "[CV] ................................... n_neighbors=23, total=   0.0s\n",
            "[CV] n_neighbors=23 ..................................................\n",
            "[CV] ................................... n_neighbors=23, total=   0.0s\n",
            "[CV] n_neighbors=23 ..................................................\n",
            "[CV] ................................... n_neighbors=23, total=   0.0s\n",
            "[CV] n_neighbors=23 ..................................................\n",
            "[CV] ................................... n_neighbors=23, total=   0.0s\n",
            "[CV] n_neighbors=24 ..................................................\n",
            "[CV] ................................... n_neighbors=24, total=   0.0s\n",
            "[CV] n_neighbors=24 ..................................................\n",
            "[CV] ................................... n_neighbors=24, total=   0.0s\n",
            "[CV] n_neighbors=24 ..................................................\n",
            "[CV] ................................... n_neighbors=24, total=   0.0s\n",
            "[CV] n_neighbors=24 ..................................................\n",
            "[CV] ................................... n_neighbors=24, total=   0.0s\n",
            "[CV] n_neighbors=24 ..................................................\n",
            "[CV] ................................... n_neighbors=24, total=   0.0s\n"
          ],
          "name": "stdout"
        },
        {
          "output_type": "stream",
          "text": [
            "[Parallel(n_jobs=1)]: Done 120 out of 120 | elapsed:    0.6s finished\n"
          ],
          "name": "stderr"
        },
        {
          "output_type": "execute_result",
          "data": {
            "text/plain": [
              "GridSearchCV(cv=5, error_score=nan,\n",
              "             estimator=KNeighborsClassifier(algorithm='auto', leaf_size=30,\n",
              "                                            metric='minkowski',\n",
              "                                            metric_params=None, n_jobs=None,\n",
              "                                            n_neighbors=5, p=2,\n",
              "                                            weights='uniform'),\n",
              "             iid='deprecated', n_jobs=None,\n",
              "             param_grid={'n_neighbors': array([ 1,  2,  3,  4,  5,  6,  7,  8,  9, 10, 11, 12, 13, 14, 15, 16, 17,\n",
              "       18, 19, 20, 21, 22, 23, 24])},\n",
              "             pre_dispatch='2*n_jobs', refit=True, return_train_score=False,\n",
              "             scoring=None, verbose=2)"
            ]
          },
          "metadata": {
            "tags": []
          },
          "execution_count": 34
        }
      ]
    },
    {
      "cell_type": "code",
      "metadata": {
        "id": "q6y6_DuVWEBF",
        "colab": {
          "base_uri": "https://localhost:8080/"
        },
        "outputId": "78a9c08c-0005-43d1-db90-a5be9a18db80"
      },
      "source": [
        "print(knn_cv.best_score_)\r\n",
        "print(knn_cv.best_params_)\r\n"
      ],
      "execution_count": 35,
      "outputs": [
        {
          "output_type": "stream",
          "text": [
            "0.9071428571428571\n",
            "{'n_neighbors': 5}\n"
          ],
          "name": "stdout"
        }
      ]
    },
    {
      "cell_type": "code",
      "metadata": {
        "id": "taVOQEEb5rIn",
        "colab": {
          "base_uri": "https://localhost:8080/"
        },
        "outputId": "06d4b1b4-047f-4049-be3b-b66daebec149"
      },
      "source": [
        "pred_knn = knn_cv.predict(X_test)\r\n",
        "print(classification_report(y_test, pred_knn))"
      ],
      "execution_count": 36,
      "outputs": [
        {
          "output_type": "stream",
          "text": [
            "              precision    recall  f1-score   support\n",
            "\n",
            "           0       0.93      0.93      0.93        73\n",
            "           1       0.89      0.89      0.89        47\n",
            "\n",
            "    accuracy                           0.92       120\n",
            "   macro avg       0.91      0.91      0.91       120\n",
            "weighted avg       0.92      0.92      0.92       120\n",
            "\n"
          ],
          "name": "stdout"
        }
      ]
    },
    {
      "cell_type": "markdown",
      "metadata": {
        "id": "MdB79zs_xVrL"
      },
      "source": [
        "### Final model"
      ]
    },
    {
      "cell_type": "code",
      "metadata": {
        "id": "9erCnQWWDnu0"
      },
      "source": [
        "from sklearn.metrics import f1_score, make_scorer\r\n",
        "f1 = make_scorer(f1_score, average = 'binary', pos_label = 1)"
      ],
      "execution_count": 37,
      "outputs": []
    },
    {
      "cell_type": "code",
      "metadata": {
        "colab": {
          "base_uri": "https://localhost:8080/"
        },
        "id": "SGgu2I-3EpqK",
        "outputId": "714dd5e4-56d1-4378-b699-688b66f1832c"
      },
      "source": [
        "knn2 = KNeighborsClassifier()\r\n",
        "param_grid = {'n_neighbors': np.arange(1, 25)}\r\n",
        "knn_cv2 = GridSearchCV(knn2, param_grid, cv=10, scoring=f1)\r\n",
        "#fit model to data\r\n",
        "knn_cv2.fit(X_train, y_train)\r\n"
      ],
      "execution_count": 38,
      "outputs": [
        {
          "output_type": "execute_result",
          "data": {
            "text/plain": [
              "GridSearchCV(cv=10, error_score=nan,\n",
              "             estimator=KNeighborsClassifier(algorithm='auto', leaf_size=30,\n",
              "                                            metric='minkowski',\n",
              "                                            metric_params=None, n_jobs=None,\n",
              "                                            n_neighbors=5, p=2,\n",
              "                                            weights='uniform'),\n",
              "             iid='deprecated', n_jobs=None,\n",
              "             param_grid={'n_neighbors': array([ 1,  2,  3,  4,  5,  6,  7,  8,  9, 10, 11, 12, 13, 14, 15, 16, 17,\n",
              "       18, 19, 20, 21, 22, 23, 24])},\n",
              "             pre_dispatch='2*n_jobs', refit=True, return_train_score=False,\n",
              "             scoring=make_scorer(f1_score, average=binary, pos_label=1),\n",
              "             verbose=0)"
            ]
          },
          "metadata": {
            "tags": []
          },
          "execution_count": 38
        }
      ]
    },
    {
      "cell_type": "code",
      "metadata": {
        "id": "Ergo_cyK6h5z",
        "colab": {
          "base_uri": "https://localhost:8080/"
        },
        "outputId": "bcc19c37-b1aa-4cdc-bc49-3fe9cd09b4d7"
      },
      "source": [
        "knn_cv2.best_params_"
      ],
      "execution_count": 39,
      "outputs": [
        {
          "output_type": "execute_result",
          "data": {
            "text/plain": [
              "{'n_neighbors': 7}"
            ]
          },
          "metadata": {
            "tags": []
          },
          "execution_count": 39
        }
      ]
    },
    {
      "cell_type": "code",
      "metadata": {
        "id": "IiAYA-sr6q5w",
        "colab": {
          "base_uri": "https://localhost:8080/"
        },
        "outputId": "cda0f9aa-64f3-42b1-c706-c005f34571eb"
      },
      "source": [
        "predict_knn2 = knn_cv2.predict(X_test)\r\n",
        "confusion_matrix(y_test, predict_knn2)"
      ],
      "execution_count": 40,
      "outputs": [
        {
          "output_type": "execute_result",
          "data": {
            "text/plain": [
              "array([[68,  5],\n",
              "       [ 4, 43]])"
            ]
          },
          "metadata": {
            "tags": []
          },
          "execution_count": 40
        }
      ]
    },
    {
      "cell_type": "code",
      "metadata": {
        "id": "1GtFtXeL67mN",
        "colab": {
          "base_uri": "https://localhost:8080/"
        },
        "outputId": "868b6e90-3dc7-44d4-d175-47b74491c8e6"
      },
      "source": [
        "print(classification_report(y_test, predict_knn2))"
      ],
      "execution_count": 41,
      "outputs": [
        {
          "output_type": "stream",
          "text": [
            "              precision    recall  f1-score   support\n",
            "\n",
            "           0       0.94      0.93      0.94        73\n",
            "           1       0.90      0.91      0.91        47\n",
            "\n",
            "    accuracy                           0.93       120\n",
            "   macro avg       0.92      0.92      0.92       120\n",
            "weighted avg       0.93      0.93      0.93       120\n",
            "\n"
          ],
          "name": "stdout"
        }
      ]
    }
  ]
}